{
 "cells": [
  {
   "cell_type": "code",
   "execution_count": 1,
   "metadata": {},
   "outputs": [],
   "source": [
    "import random"
   ]
  },
  {
   "cell_type": "code",
   "execution_count": null,
   "metadata": {},
   "outputs": [
    {
     "name": "stdout",
     "output_type": "stream",
     "text": [
      "búa, kéo hay lá?kao\n",
      "nhập đúng chính tả. búa, kéo hoặc lá\n",
      "búa, kéo hay lá?la\n",
      "nhập đúng chính tả. búa, kéo hoặc lá\n",
      "búa, kéo hay lá?lá\n",
      "Hòa\n"
     ]
    }
   ],
   "source": [
    "arr = [\"búa\", \"kéo\", \"lá\"]\n",
    "\n",
    "computer = arr[random.randint(0,2)]\n",
    "\n",
    "play = True\n",
    "while play == True:\n",
    "    player = input(\"búa, kéo hay lá?\")\n",
    "    if player == computer:\n",
    "        print(\"Hòa\")\n",
    "    \n",
    "    elif player == \"búa\":\n",
    "        if computer == \"lá\":\n",
    "            print(\"Bạn thua rồi!\")\n",
    "        else:\n",
    "            print(\"Bạn thắng rồi!\")\n",
    "            \n",
    "    elif player == \"kéo\":\n",
    "        if computer == \"búa\":\n",
    "            print(\"Bạn thua rồi!\")\n",
    "        else:\n",
    "            print(\"Bạn thắng rồi!\")\n",
    "            \n",
    "    elif player == \"lá\":\n",
    "        if computer == \"kéo\":\n",
    "            print(\"Bạn thua rồi!\")\n",
    "        else:\n",
    "            print(\"Bạn thắng rồi!\")\n",
    "    else:\n",
    "        print(\"nhập đúng chính tả. búa, kéo hoặc lá\")\n",
    "    computer = arr[random.randint(0,2)]"
   ]
  },
  {
   "cell_type": "code",
   "execution_count": null,
   "metadata": {},
   "outputs": [],
   "source": []
  }
 ],
 "metadata": {
  "kernelspec": {
   "display_name": "Python 3 (ipykernel)",
   "language": "python",
   "name": "python3"
  },
  "language_info": {
   "codemirror_mode": {
    "name": "ipython",
    "version": 3
   },
   "file_extension": ".py",
   "mimetype": "text/x-python",
   "name": "python",
   "nbconvert_exporter": "python",
   "pygments_lexer": "ipython3",
   "version": "3.9.12"
  }
 },
 "nbformat": 4,
 "nbformat_minor": 2
}
