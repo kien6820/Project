{
 "cells": [
  {
   "cell_type": "code",
   "execution_count": 1,
   "metadata": {},
   "outputs": [],
   "source": [
    "import random"
   ]
  },
  {
   "cell_type": "code",
   "execution_count": 2,
   "metadata": {},
   "outputs": [
    {
     "name": "stdout",
     "output_type": "stream",
     "text": [
      "Hi! What's your name? kiên\n",
      "Nice to meet you, kiên. Let's play our guessing game\n"
     ]
    }
   ],
   "source": [
    "number = random.randint(1,10)\n",
    "guess_count = 1\n",
    "guess_limit = 5\n",
    "player_name = input(\"Hi! What's your name? \")\n",
    "print(\"Nice to meet you, \" + player_name + \". Let's play our guessing game\")"
   ]
  },
  {
   "cell_type": "code",
   "execution_count": 3,
   "metadata": {
    "scrolled": true
   },
   "outputs": [
    {
     "name": "stdout",
     "output_type": "stream",
     "text": [
      "The number you guess is: 4\n",
      "Your guessing number is too low\n",
      "The number you guess is: 4\n",
      "Your guessing number is too low\n",
      "The number you guess is: 4\n",
      "Your guessing number is too low\n",
      "The number you guess is: 4\n",
      "Your guessing number is too low\n",
      "The number you guess is: 4\n",
      "Your guessing number is too low\n",
      "Game over. The correct number is 5\n"
     ]
    }
   ],
   "source": [
    "while guess_count <= guess_limit:\n",
    "    guess = int(input(\"The number you guess is: \"))\n",
    "    if guess < number:\n",
    "        print('Your guessing number is too low')\n",
    "        guess_count = guess_count + 1\n",
    "    elif guess > number:\n",
    "        print('Your guessing number is too high')\n",
    "        guess_count = guess_count + 1\n",
    "    else:\n",
    "        print('You got correct number after ' + str(guess_count) + ' tries')\n",
    "        break # stop while loop if we guess the correct number\n",
    "if guess_count > guess_limit:\n",
    "    print('Game over. The correct number is ' + str(number))"
   ]
  },
  {
   "cell_type": "code",
   "execution_count": null,
   "metadata": {},
   "outputs": [],
   "source": []
  }
 ],
 "metadata": {
  "kernelspec": {
   "display_name": "Python 3 (ipykernel)",
   "language": "python",
   "name": "python3"
  },
  "language_info": {
   "codemirror_mode": {
    "name": "ipython",
    "version": 3
   },
   "file_extension": ".py",
   "mimetype": "text/x-python",
   "name": "python",
   "nbconvert_exporter": "python",
   "pygments_lexer": "ipython3",
   "version": "3.9.12"
  }
 },
 "nbformat": 4,
 "nbformat_minor": 2
}
