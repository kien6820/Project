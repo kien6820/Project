{
 "cells": [
  {
   "cell_type": "code",
   "execution_count": 8,
   "id": "6e14dcec",
   "metadata": {},
   "outputs": [],
   "source": [
    "import pandas as pd\n",
    "import numpy as np"
   ]
  },
  {
   "cell_type": "code",
   "execution_count": 9,
   "id": "fdb2566b",
   "metadata": {
    "scrolled": true
   },
   "outputs": [
    {
     "data": {
      "text/html": [
       "<div>\n",
       "<style scoped>\n",
       "    .dataframe tbody tr th:only-of-type {\n",
       "        vertical-align: middle;\n",
       "    }\n",
       "\n",
       "    .dataframe tbody tr th {\n",
       "        vertical-align: top;\n",
       "    }\n",
       "\n",
       "    .dataframe thead th {\n",
       "        text-align: right;\n",
       "    }\n",
       "</style>\n",
       "<table border=\"1\" class=\"dataframe\">\n",
       "  <thead>\n",
       "    <tr style=\"text-align: right;\">\n",
       "      <th></th>\n",
       "      <th>product_id</th>\n",
       "      <th>old_price</th>\n",
       "      <th>new_price</th>\n",
       "      <th>updated_at</th>\n",
       "      <th>ordered_at</th>\n",
       "    </tr>\n",
       "  </thead>\n",
       "  <tbody>\n",
       "    <tr>\n",
       "      <th>4</th>\n",
       "      <td>3954203</td>\n",
       "      <td>68800</td>\n",
       "      <td>60000</td>\n",
       "      <td>2018-09-10 16:32:00</td>\n",
       "      <td>2018-09-10 16:32:00</td>\n",
       "    </tr>\n",
       "    <tr>\n",
       "      <th>7</th>\n",
       "      <td>3998909</td>\n",
       "      <td>19000</td>\n",
       "      <td>17000</td>\n",
       "      <td>2018-09-10 16:35:00</td>\n",
       "      <td>2018-09-10 16:35:00</td>\n",
       "    </tr>\n",
       "    <tr>\n",
       "      <th>0</th>\n",
       "      <td>64</td>\n",
       "      <td>270000</td>\n",
       "      <td>239000</td>\n",
       "      <td>2018-09-10 16:37:00</td>\n",
       "      <td>2018-09-10 16:37:00</td>\n",
       "    </tr>\n",
       "  </tbody>\n",
       "</table>\n",
       "</div>"
      ],
      "text/plain": [
       "   product_id  old_price  new_price          updated_at          ordered_at\n",
       "4     3954203      68800      60000 2018-09-10 16:32:00 2018-09-10 16:32:00\n",
       "7     3998909      19000      17000 2018-09-10 16:35:00 2018-09-10 16:35:00\n",
       "0          64     270000     239000 2018-09-10 16:37:00 2018-09-10 16:37:00"
      ]
     },
     "execution_count": 9,
     "metadata": {},
     "output_type": "execute_result"
    }
   ],
   "source": [
    "prices = pd.read_csv('prices.csv')\n",
    "prices['updated_at'] = pd.to_datetime(prices['updated_at'])\n",
    "prices['ordered_at'] = prices['updated_at']\n",
    "prices = prices.sort_values('ordered_at')\n",
    "prices.head(3)"
   ]
  },
  {
   "cell_type": "code",
   "execution_count": 10,
   "id": "267b24b7",
   "metadata": {},
   "outputs": [
    {
     "data": {
      "text/html": [
       "<div>\n",
       "<style scoped>\n",
       "    .dataframe tbody tr th:only-of-type {\n",
       "        vertical-align: middle;\n",
       "    }\n",
       "\n",
       "    .dataframe tbody tr th {\n",
       "        vertical-align: top;\n",
       "    }\n",
       "\n",
       "    .dataframe thead th {\n",
       "        text-align: right;\n",
       "    }\n",
       "</style>\n",
       "<table border=\"1\" class=\"dataframe\">\n",
       "  <thead>\n",
       "    <tr style=\"text-align: right;\">\n",
       "      <th></th>\n",
       "      <th>product_id</th>\n",
       "      <th>ordered_at</th>\n",
       "      <th>quantity_ordered</th>\n",
       "    </tr>\n",
       "  </thead>\n",
       "  <tbody>\n",
       "    <tr>\n",
       "      <th>86</th>\n",
       "      <td>3954203</td>\n",
       "      <td>2018-09-11 01:43:00</td>\n",
       "      <td>1</td>\n",
       "    </tr>\n",
       "    <tr>\n",
       "      <th>28</th>\n",
       "      <td>4085861</td>\n",
       "      <td>2018-09-11 06:26:00</td>\n",
       "      <td>1</td>\n",
       "    </tr>\n",
       "    <tr>\n",
       "      <th>26</th>\n",
       "      <td>4085861</td>\n",
       "      <td>2018-09-11 06:53:00</td>\n",
       "      <td>1</td>\n",
       "    </tr>\n",
       "  </tbody>\n",
       "</table>\n",
       "</div>"
      ],
      "text/plain": [
       "    product_id          ordered_at  quantity_ordered\n",
       "86     3954203 2018-09-11 01:43:00                 1\n",
       "28     4085861 2018-09-11 06:26:00                 1\n",
       "26     4085861 2018-09-11 06:53:00                 1"
      ]
     },
     "execution_count": 10,
     "metadata": {},
     "output_type": "execute_result"
    }
   ],
   "source": [
    "sales = pd.read_csv('sales.csv')\n",
    "sales[\"ordered_at\"] = pd.to_datetime(sales['ordered_at'])\n",
    "sales = sales.sort_values('ordered_at')\n",
    "sales.head(3)"
   ]
  },
  {
   "cell_type": "code",
   "execution_count": 11,
   "id": "4c7be9a9",
   "metadata": {},
   "outputs": [
    {
     "data": {
      "text/html": [
       "<div>\n",
       "<style scoped>\n",
       "    .dataframe tbody tr th:only-of-type {\n",
       "        vertical-align: middle;\n",
       "    }\n",
       "\n",
       "    .dataframe tbody tr th {\n",
       "        vertical-align: top;\n",
       "    }\n",
       "\n",
       "    .dataframe thead th {\n",
       "        text-align: right;\n",
       "    }\n",
       "</style>\n",
       "<table border=\"1\" class=\"dataframe\">\n",
       "  <thead>\n",
       "    <tr style=\"text-align: right;\">\n",
       "      <th></th>\n",
       "      <th>product_id</th>\n",
       "      <th>ordered_at</th>\n",
       "      <th>quantity_ordered</th>\n",
       "      <th>old_price</th>\n",
       "      <th>new_price</th>\n",
       "      <th>updated_at</th>\n",
       "    </tr>\n",
       "  </thead>\n",
       "  <tbody>\n",
       "    <tr>\n",
       "      <th>0</th>\n",
       "      <td>3954203</td>\n",
       "      <td>2018-09-11 01:43:00</td>\n",
       "      <td>1</td>\n",
       "      <td>68800</td>\n",
       "      <td>60000</td>\n",
       "      <td>2018-09-10 16:32:00</td>\n",
       "    </tr>\n",
       "    <tr>\n",
       "      <th>1</th>\n",
       "      <td>4085861</td>\n",
       "      <td>2018-09-11 06:26:00</td>\n",
       "      <td>1</td>\n",
       "      <td>60000</td>\n",
       "      <td>53500</td>\n",
       "      <td>2018-09-11 08:51:00</td>\n",
       "    </tr>\n",
       "    <tr>\n",
       "      <th>2</th>\n",
       "      <td>4085861</td>\n",
       "      <td>2018-09-11 06:53:00</td>\n",
       "      <td>1</td>\n",
       "      <td>60000</td>\n",
       "      <td>53500</td>\n",
       "      <td>2018-09-11 08:51:00</td>\n",
       "    </tr>\n",
       "    <tr>\n",
       "      <th>3</th>\n",
       "      <td>4085861</td>\n",
       "      <td>2018-09-11 08:24:00</td>\n",
       "      <td>1</td>\n",
       "      <td>60000</td>\n",
       "      <td>53500</td>\n",
       "      <td>2018-09-11 08:51:00</td>\n",
       "    </tr>\n",
       "    <tr>\n",
       "      <th>4</th>\n",
       "      <td>4085861</td>\n",
       "      <td>2018-09-11 09:30:00</td>\n",
       "      <td>1</td>\n",
       "      <td>60000</td>\n",
       "      <td>53500</td>\n",
       "      <td>2018-09-11 08:51:00</td>\n",
       "    </tr>\n",
       "  </tbody>\n",
       "</table>\n",
       "</div>"
      ],
      "text/plain": [
       "   product_id          ordered_at  quantity_ordered  old_price  new_price  \\\n",
       "0     3954203 2018-09-11 01:43:00                 1      68800      60000   \n",
       "1     4085861 2018-09-11 06:26:00                 1      60000      53500   \n",
       "2     4085861 2018-09-11 06:53:00                 1      60000      53500   \n",
       "3     4085861 2018-09-11 08:24:00                 1      60000      53500   \n",
       "4     4085861 2018-09-11 09:30:00                 1      60000      53500   \n",
       "\n",
       "           updated_at  \n",
       "0 2018-09-10 16:32:00  \n",
       "1 2018-09-11 08:51:00  \n",
       "2 2018-09-11 08:51:00  \n",
       "3 2018-09-11 08:51:00  \n",
       "4 2018-09-11 08:51:00  "
      ]
     },
     "execution_count": 11,
     "metadata": {},
     "output_type": "execute_result"
    }
   ],
   "source": [
    "df = pd.merge_asof(sales, prices, on='ordered_at', by='product_id', direction='nearest')\n",
    "df.head(5)"
   ]
  },
  {
   "cell_type": "code",
   "execution_count": 12,
   "id": "2feacf72",
   "metadata": {},
   "outputs": [
    {
     "data": {
      "text/html": [
       "<div>\n",
       "<style scoped>\n",
       "    .dataframe tbody tr th:only-of-type {\n",
       "        vertical-align: middle;\n",
       "    }\n",
       "\n",
       "    .dataframe tbody tr th {\n",
       "        vertical-align: top;\n",
       "    }\n",
       "\n",
       "    .dataframe thead th {\n",
       "        text-align: right;\n",
       "    }\n",
       "</style>\n",
       "<table border=\"1\" class=\"dataframe\">\n",
       "  <thead>\n",
       "    <tr style=\"text-align: right;\">\n",
       "      <th></th>\n",
       "      <th>product_id</th>\n",
       "      <th>ordered_at</th>\n",
       "      <th>quantity_ordered</th>\n",
       "      <th>old_price</th>\n",
       "      <th>new_price</th>\n",
       "      <th>updated_at</th>\n",
       "      <th>actual_price</th>\n",
       "      <th>total_price</th>\n",
       "    </tr>\n",
       "  </thead>\n",
       "  <tbody>\n",
       "    <tr>\n",
       "      <th>0</th>\n",
       "      <td>3954203</td>\n",
       "      <td>2018-09-11 01:43:00</td>\n",
       "      <td>1</td>\n",
       "      <td>68800</td>\n",
       "      <td>60000</td>\n",
       "      <td>2018-09-10 16:32:00</td>\n",
       "      <td>60000</td>\n",
       "      <td>60000</td>\n",
       "    </tr>\n",
       "    <tr>\n",
       "      <th>1</th>\n",
       "      <td>4085861</td>\n",
       "      <td>2018-09-11 06:26:00</td>\n",
       "      <td>1</td>\n",
       "      <td>60000</td>\n",
       "      <td>53500</td>\n",
       "      <td>2018-09-11 08:51:00</td>\n",
       "      <td>60000</td>\n",
       "      <td>60000</td>\n",
       "    </tr>\n",
       "    <tr>\n",
       "      <th>2</th>\n",
       "      <td>4085861</td>\n",
       "      <td>2018-09-11 06:53:00</td>\n",
       "      <td>1</td>\n",
       "      <td>60000</td>\n",
       "      <td>53500</td>\n",
       "      <td>2018-09-11 08:51:00</td>\n",
       "      <td>60000</td>\n",
       "      <td>60000</td>\n",
       "    </tr>\n",
       "    <tr>\n",
       "      <th>3</th>\n",
       "      <td>4085861</td>\n",
       "      <td>2018-09-11 08:24:00</td>\n",
       "      <td>1</td>\n",
       "      <td>60000</td>\n",
       "      <td>53500</td>\n",
       "      <td>2018-09-11 08:51:00</td>\n",
       "      <td>60000</td>\n",
       "      <td>60000</td>\n",
       "    </tr>\n",
       "    <tr>\n",
       "      <th>4</th>\n",
       "      <td>4085861</td>\n",
       "      <td>2018-09-11 09:30:00</td>\n",
       "      <td>1</td>\n",
       "      <td>60000</td>\n",
       "      <td>53500</td>\n",
       "      <td>2018-09-11 08:51:00</td>\n",
       "      <td>53500</td>\n",
       "      <td>53500</td>\n",
       "    </tr>\n",
       "  </tbody>\n",
       "</table>\n",
       "</div>"
      ],
      "text/plain": [
       "   product_id          ordered_at  quantity_ordered  old_price  new_price  \\\n",
       "0     3954203 2018-09-11 01:43:00                 1      68800      60000   \n",
       "1     4085861 2018-09-11 06:26:00                 1      60000      53500   \n",
       "2     4085861 2018-09-11 06:53:00                 1      60000      53500   \n",
       "3     4085861 2018-09-11 08:24:00                 1      60000      53500   \n",
       "4     4085861 2018-09-11 09:30:00                 1      60000      53500   \n",
       "\n",
       "           updated_at  actual_price  total_price  \n",
       "0 2018-09-10 16:32:00         60000        60000  \n",
       "1 2018-09-11 08:51:00         60000        60000  \n",
       "2 2018-09-11 08:51:00         60000        60000  \n",
       "3 2018-09-11 08:51:00         60000        60000  \n",
       "4 2018-09-11 08:51:00         53500        53500  "
      ]
     },
     "execution_count": 12,
     "metadata": {},
     "output_type": "execute_result"
    }
   ],
   "source": [
    "df['actual_price'] = np.where(df['ordered_at'] >= df['updated_at'], df['new_price'], df['old_price'])\n",
    "df[\"total_price\"] = df.quantity_ordered * df.actual_price\n",
    "df.head(5)"
   ]
  },
  {
   "cell_type": "code",
   "execution_count": 13,
   "id": "5f333ec5",
   "metadata": {
    "scrolled": false
   },
   "outputs": [
    {
     "name": "stdout",
     "output_type": "stream",
     "text": [
      "   product_id  total_price\n",
      "0          64       956000\n",
      "1     3954203       877500\n",
      "2     3998909       280500\n",
      "3     4085861      8247500\n"
     ]
    }
   ],
   "source": [
    "product_type = df.groupby(\"product_id\", as_index=False)[\"total_price\"].sum()\n",
    "print(product_type)\n",
    "#Tổng tiền thực tế của từng loại sản phẩm theo product_id"
   ]
  },
  {
   "cell_type": "code",
   "execution_count": 14,
   "id": "05625fcc",
   "metadata": {},
   "outputs": [
    {
     "name": "stdout",
     "output_type": "stream",
     "text": [
      "10361500\n"
     ]
    }
   ],
   "source": [
    "total_revenue = df.total_price.sum()\n",
    "print(total_revenue)\n",
    "#Tổng doanh thu của tất cả sản phẩm trong kỳ"
   ]
  }
 ],
 "metadata": {
  "kernelspec": {
   "display_name": "Python 3 (ipykernel)",
   "language": "python",
   "name": "python3"
  },
  "language_info": {
   "codemirror_mode": {
    "name": "ipython",
    "version": 3
   },
   "file_extension": ".py",
   "mimetype": "text/x-python",
   "name": "python",
   "nbconvert_exporter": "python",
   "pygments_lexer": "ipython3",
   "version": "3.9.12"
  }
 },
 "nbformat": 4,
 "nbformat_minor": 5
}
